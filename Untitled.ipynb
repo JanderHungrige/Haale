{
 "cells": [
  {
   "cell_type": "markdown",
   "metadata": {},
   "source": [
    "Hi Peter,\n",
    "\n",
    "also die Aufgabentellungn ist simpel. Ich will Ein Bild mit einer Kamera aufnehmen und sie mit opencv facerec wiedergeben. \n",
    "Um die facel recognition musst du dir keinen kopf machen. facecascader ... läuft.\n",
    "\n",
    "Das Problem ist es soll auf unserer embedded Hardware laufen. Dort hab ich python3, QT5 und gstreamer. \n",
    "\n",
    "Im ersten Anlauf will ich einfach das bild mittels gstreamer anzeigen. \n",
    "Ich hab folgenden code (python) gefunden bei dem ein gstreamer 'appsrc' erzeugt wird. Um daten in die gstreamer pipeline zu bekommen. \n",
    "\n",
    "meine Frage ist, wie läuft das jetzt genau? \n",
    "wie erfährt gstreamer von dem appsrc? Baue ich eine bash in der erst die python Funktion läuft und dann gstreamer aufgerufen wird? Aber eigentlich muss das doch parallel laufen, denn der stream soll ja durchgehend laufen? \n",
    " \n",
    "weisst du wie man diese \n",
    "\n",
    "ps. die kammera wird mit li4vi initialisiert und "
   ]
  },
  {
   "cell_type": "code",
   "execution_count": null,
   "metadata": {},
   "outputs": [],
   "source": [
    "import cv2\n",
    "\n",
    "cap = cv2.VideoCapture(0)\n",
    "\n",
    "framerate = 25.0\n",
    "\n",
    "out = cv2.VideoWriter('appsrc ! videoconvert ! '\n",
    "                      'x264enc noise-reduction=10000 speed-preset=ultrafast tune=zerolatency ! '\n",
    "                      'rtph264pay config-interval=1 pt=96 !'\n",
    "                      'tcpserversink host=192.168.1.27 port=5000 sync=false',\n",
    "                      0, framerate, (640, 480))\n",
    "\n",
    "while cap.isOpened():\n",
    "    ret, frame = cap.read()\n",
    "    if ret:\n",
    "\n",
    "        out.write(frame)\n",
    "\n",
    "        if cv2.waitKey(1) & 0xFF == ord('q'):\n",
    "            break\n",
    "    else:\n",
    "        break\n",
    "\n",
    "# Release everything if job is finished\n",
    "cap.release()\n",
    "out.release()"
   ]
  }
 ],
 "metadata": {
  "kernelspec": {
   "display_name": "Python 3",
   "language": "python",
   "name": "python3"
  },
  "language_info": {
   "codemirror_mode": {
    "name": "ipython",
    "version": 3
   },
   "file_extension": ".py",
   "mimetype": "text/x-python",
   "name": "python",
   "nbconvert_exporter": "python",
   "pygments_lexer": "ipython3",
   "version": "3.6.10"
  },
  "varInspector": {
   "cols": {
    "lenName": 16,
    "lenType": 16,
    "lenVar": 40
   },
   "kernels_config": {
    "python": {
     "delete_cmd_postfix": "",
     "delete_cmd_prefix": "del ",
     "library": "var_list.py",
     "varRefreshCmd": "print(var_dic_list())"
    },
    "r": {
     "delete_cmd_postfix": ") ",
     "delete_cmd_prefix": "rm(",
     "library": "var_list.r",
     "varRefreshCmd": "cat(var_dic_list()) "
    }
   },
   "types_to_exclude": [
    "module",
    "function",
    "builtin_function_or_method",
    "instance",
    "_Feature"
   ],
   "window_display": false
  }
 },
 "nbformat": 4,
 "nbformat_minor": 2
}
